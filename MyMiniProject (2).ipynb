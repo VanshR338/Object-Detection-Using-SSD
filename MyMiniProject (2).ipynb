{
 "cells": [
  {
   "cell_type": "code",
   "execution_count": 2,
   "id": "506ad567-5599-4fc2-9553-901544194f20",
   "metadata": {},
   "outputs": [],
   "source": [
    "from imutils.video import FPS\n",
    "import numpy as np\n",
    "import imutils\n",
    "import cv2"
   ]
  },
  {
   "cell_type": "code",
   "execution_count": 3,
   "id": "0cb6b7c5-8ca8-43a4-b49d-ac74c80c2cdd",
   "metadata": {},
   "outputs": [],
   "source": [
    "use_gpu = True\n",
    "live_video = True \n",
    "                  "
   ]
  },
  {
   "cell_type": "code",
   "execution_count": 4,
   "id": "242bbe12-f648-461f-8df9-fb61dac751cf",
   "metadata": {},
   "outputs": [],
   "source": [
    "confidence_level = 0.5\n",
    "fps = FPS().start()\n",
    "ret = True\n",
    "CLASSES = [\"background\", \"aeroplane\", \"bicycle\", \"bird\", \"boat\",\n",
    "           \"bottle\", \"bus\", \"car\", \"cat\", \"chair\", \"cow\", \"diningtable\",\n",
    "           \"dog\", \"horse\", \"motorbike\", \"person\", \"pottedplant\", \"sheep\",\n",
    "           \"sofa\", \"train\", \"tvmonitor\"]\n"
   ]
  },
  {
   "cell_type": "code",
   "execution_count": 5,
   "id": "34d5df4e-22cf-432d-a0f3-7787ffd9d747",
   "metadata": {},
   "outputs": [],
   "source": [
    "COLORS = np.random.uniform(0, 255, size=(len(CLASSES), 3))"
   ]
  },
  {
   "cell_type": "code",
   "execution_count": 6,
   "id": "5e0b35e2-3202-4e8f-b7ba-d9241ade96b5",
   "metadata": {},
   "outputs": [],
   "source": [
    "net = cv2.dnn.readNetFromCaffe('C:\\\\Object-detection-using-SSD-Single-Shot-MultiBox-Detector-main\\\\Object-detection-using-SSD-Single-Shot-MultiBox-Detector-main\\\\Object Detection using SSD\\\\ssd_files\\\\MobileNetSSD_deploy.prototxt', 'C:\\\\Object-detection-using-SSD-Single-Shot-MultiBox-Detector-main\\\\Object-detection-using-SSD-Single-Shot-MultiBox-Detector-main\\\\object Detection using SSD\\\\ssd_files\\\\MobileNetSSD_deploy.caffemodel')"
   ]
  },
  {
   "cell_type": "code",
   "execution_count": 7,
   "id": "4e127c2c-2a8e-4dc5-a25b-a327066261ff",
   "metadata": {},
   "outputs": [
    {
     "name": "stdout",
     "output_type": "stream",
     "text": [
      "[INFO] setting preferable backend and target to CUDA...\n"
     ]
    }
   ],
   "source": [
    "if use_gpu:\n",
    "    print(\"[INFO] setting preferable backend and target to CUDA...\")\n",
    "    net.setPreferableBackend(cv2.dnn.DNN_BACKEND_CUDA)\n",
    "    net.setPreferableTarget(cv2.dnn.DNN_TARGET_CUDA)"
   ]
  },
  {
   "cell_type": "code",
   "execution_count": 8,
   "id": "3af1e960-4e23-4274-8139-500e9009a7f3",
   "metadata": {},
   "outputs": [
    {
     "name": "stdout",
     "output_type": "stream",
     "text": [
      "[INFO] accessing video stream...\n"
     ]
    }
   ],
   "source": [
    "print(\"[INFO] accessing video stream...\")\n",
    "if live_video:\n",
    "    vs = cv2.VideoCapture(0)\n",
    "else:\n",
    "    vs = cv2.VideoCapture('Video for Project.mp4') "
   ]
  },
  {
   "cell_type": "code",
   "execution_count": 9,
   "id": "35dc7c6c-6013-44a9-a9cd-459589dbe27f",
   "metadata": {},
   "outputs": [],
   "source": [
    "while ret:\n",
    "    ret, frame = vs.read()\n",
    "    if ret:\n",
    "        frame = imutils.resize(frame, width=400)\n",
    "        (h, w) = frame.shape[:2]\n",
    "\n",
    "        blob = cv2.dnn.blobFromImage(frame, 0.007843, (300, 300), 127.5)\n",
    "        net.setInput(blob)\n",
    "        detections = net.forward()\n",
    "\n",
    "        for i in np.arange(0, detections.shape[2]):\n",
    "            confidence = detections[0, 0, i, 2]\n",
    "            if confidence > confidence_level:\n",
    "                idx = int(detections[0, 0, i, 1])\n",
    "                box = detections[0, 0, i, 3:7] * np.array([w, h, w, h])\n",
    "                (startX, startY, endX, endY) = box.astype(\"int\")\n",
    "\n",
    "                label = \"{}: {:.2f}%\".format(CLASSES[idx], confidence * 100)\n",
    "                cv2.rectangle(frame, (startX, startY), (endX, endY), COLORS[idx], 2)\n",
    "\n",
    "                y = startY - 15 if startY - 15 > 15 else startY + 15\n",
    "                cv2.putText(frame, label, (startX, y), cv2.FONT_HERSHEY_DUPLEX, 0.5, COLORS[idx], 1)\n",
    "        \n",
    "        frame = imutils.resize(frame,height=400)\n",
    "        cv2.imshow('Live detection',frame)\n",
    "\n",
    "        if cv2.waitKey(1)==27:\n",
    "            break\n",
    "\n",
    "        fps.update()\n",
    "\n",
    "fps.stop()\n"
   ]
  },
  {
   "cell_type": "code",
   "execution_count": 10,
   "id": "b25b289c-d8e7-4821-83a7-0960ad94f6db",
   "metadata": {},
   "outputs": [
    {
     "name": "stdout",
     "output_type": "stream",
     "text": [
      "[INFO] elasped time: 126.85\n",
      "[INFO] approx. FPS: 17.95\n"
     ]
    }
   ],
   "source": [
    "print(\"[INFO] elasped time: {:.2f}\".format(fps.elapsed()))\n",
    "print(\"[INFO] approx. FPS: {:.2f}\".format(fps.fps()))"
   ]
  },
  {
   "cell_type": "code",
   "execution_count": null,
   "id": "982d35aa-beec-429a-adfd-0975dea6eb6f",
   "metadata": {},
   "outputs": [],
   "source": []
  }
 ],
 "metadata": {
  "kernelspec": {
   "display_name": "Python 3 (ipykernel)",
   "language": "python",
   "name": "python3"
  },
  "language_info": {
   "codemirror_mode": {
    "name": "ipython",
    "version": 3
   },
   "file_extension": ".py",
   "mimetype": "text/x-python",
   "name": "python",
   "nbconvert_exporter": "python",
   "pygments_lexer": "ipython3",
   "version": "3.12.6"
  }
 },
 "nbformat": 4,
 "nbformat_minor": 5
}
